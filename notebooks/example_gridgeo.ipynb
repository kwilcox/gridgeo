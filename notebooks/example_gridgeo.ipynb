{
 "cells": [
  {
   "cell_type": "markdown",
   "metadata": {},
   "source": [
    "### Load an UGRID"
   ]
  },
  {
   "cell_type": "code",
   "execution_count": 1,
   "metadata": {
    "collapsed": false
   },
   "outputs": [],
   "source": [
    "from gridgeo import GridGeo\n",
    "\n",
    "url = (\"http://crow.marine.usf.edu:8080/thredds/dodsC/\"\n",
    "       \"FVCOM-Nowcast-Agg.nc\")\n",
    "\n",
    "# Showing the whole grid is quite expensive.\n",
    "# I'll use a smaller version for now.\n",
    "url = (\"../gridgeo/tests/data/FVCOM-Nowcast-Agg.nc\")\n",
    "\n",
    "ugrid = GridGeo(url)"
   ]
  },
  {
   "cell_type": "markdown",
   "metadata": {},
   "source": [
    "### Does it load with SGRID as well?"
   ]
  },
  {
   "cell_type": "code",
   "execution_count": 2,
   "metadata": {
    "collapsed": false
   },
   "outputs": [
    {
     "ename": "NotImplementedError",
     "evalue": "",
     "output_type": "error",
     "traceback": [
      "\u001b[1;31m---------------------------------------------------------------------------\u001b[0m",
      "\u001b[1;31mNotImplementedError\u001b[0m                       Traceback (most recent call last)",
      "\u001b[1;32m<ipython-input-2-9f473d93d033>\u001b[0m in \u001b[0;36m<module>\u001b[1;34m()\u001b[0m\n\u001b[0;32m      4\u001b[0m \u001b[0murl\u001b[0m \u001b[1;33m=\u001b[0m \u001b[1;34m\"../gridgeo/tests/data/00_dir_NYB05.nc\"\u001b[0m\u001b[1;33m\u001b[0m\u001b[0m\n\u001b[0;32m      5\u001b[0m \u001b[1;33m\u001b[0m\u001b[0m\n\u001b[1;32m----> 6\u001b[1;33m \u001b[0msgrid\u001b[0m \u001b[1;33m=\u001b[0m \u001b[0mGridGeo\u001b[0m\u001b[1;33m(\u001b[0m\u001b[0murl\u001b[0m\u001b[1;33m)\u001b[0m\u001b[1;33m\u001b[0m\u001b[0m\n\u001b[0m",
      "\u001b[1;32m/home/filipe/miniconda/envs/IOOS/lib/python2.7/site-packages/gridgeo/gridgeo.pyc\u001b[0m in \u001b[0;36m__init__\u001b[1;34m(self, nc, mesh_name, precision)\u001b[0m\n\u001b[0;32m     39\u001b[0m             \u001b[1;31m# NOTE: We have 3 sgrid classes!!!  SGridND, SGrid2D, and\u001b[0m\u001b[1;33m\u001b[0m\u001b[1;33m\u001b[0m\u001b[0m\n\u001b[0;32m     40\u001b[0m             \u001b[1;31m# SGrid3D. Do we really need all that?\u001b[0m\u001b[1;33m\u001b[0m\u001b[1;33m\u001b[0m\u001b[0m\n\u001b[1;32m---> 41\u001b[1;33m             \u001b[1;32mraise\u001b[0m \u001b[0mNotImplementedError\u001b[0m\u001b[1;33m\u001b[0m\u001b[0m\n\u001b[0m\u001b[0;32m     42\u001b[0m         \u001b[1;32melse\u001b[0m\u001b[1;33m:\u001b[0m\u001b[1;33m\u001b[0m\u001b[0m\n\u001b[0;32m     43\u001b[0m             \u001b[0mmsg\u001b[0m \u001b[1;33m=\u001b[0m \u001b[1;34m'Object {!r} does not seem to be a grid-like object.'\u001b[0m\u001b[1;33m\u001b[0m\u001b[0m\n",
      "\u001b[1;31mNotImplementedError\u001b[0m: "
     ]
    }
   ],
   "source": [
    "url = (\"http://geoport.whoi.edu/thredds/dodsC/clay/usgs/users/jcwarner/\"\n",
    "       \"Projects/Sandy/triple_nest/00_dir_NYB05.ncml\")\n",
    "\n",
    "url = \"../gridgeo/tests/data/00_dir_NYB05.nc\"\n",
    "\n",
    "sgrid = GridGeo(url)"
   ]
  },
  {
   "cell_type": "markdown",
   "metadata": {},
   "source": [
    "### The grid object no, but the grid loader is ready."
   ]
  },
  {
   "cell_type": "code",
   "execution_count": 3,
   "metadata": {
    "collapsed": false
   },
   "outputs": [
    {
     "data": {
      "text/plain": [
       "<pysgrid.sgrid.SGrid2D at 0x7fa379b6d190>"
      ]
     },
     "execution_count": 3,
     "metadata": {},
     "output_type": "execute_result"
    }
   ],
   "source": [
    "from gridgeo import load_grid\n",
    "\n",
    "sgrid = load_grid(url)\n",
    "sgrid"
   ]
  },
  {
   "cell_type": "markdown",
   "metadata": {},
   "source": [
    "### The grid object has the same `__repr__` as shapely"
   ]
  },
  {
   "cell_type": "code",
   "execution_count": 4,
   "metadata": {
    "collapsed": false
   },
   "outputs": [
    {
     "name": "stderr",
     "output_type": "stream",
     "text": [
      "WARNING:shapely.geos:Self-intersection at or near point -87.244598388671875 30.300199508666992\n"
     ]
    },
    {
     "data": {
      "image/svg+xml": [
       "<svg xmlns=\"http://www.w3.org/2000/svg\" xmlns:xlink=\"http://www.w3.org/1999/xlink\" width=\"100.0\" height=\"100.0\" viewBox=\"-87.2534404755 30.2153553009 0.061385345459 0.106488418579\" preserveAspectRatio=\"xMinYMin meet\"><g transform=\"matrix(1,0,0,-1,0,60.5371990204)\"><g><path fill-rule=\"evenodd\" fill=\"#ff3333\" stroke=\"#555555\" stroke-width=\"0.00212976837158\" opacity=\"0.6\" d=\"M -87.24949646,30.317899704 L -87.2445983887,30.3001995087 L -87.2276992798,30.3043003082 L -87.24949646,30.317899704 z\" /><path fill-rule=\"evenodd\" fill=\"#ff3333\" stroke=\"#555555\" stroke-width=\"0.00212976837158\" opacity=\"0.6\" d=\"M -87.2445983887,30.3001995087 L -87.2397994995,30.2833003998 L -87.2276992798,30.3043003082 L -87.2445983887,30.3001995087 z\" /><path fill-rule=\"evenodd\" fill=\"#ff3333\" stroke=\"#555555\" stroke-width=\"0.00212976837158\" opacity=\"0.6\" d=\"M -87.2276992798,30.3043003082 L -87.2397994995,30.2833003998 L -87.2220001221,30.2873001099 L -87.2276992798,30.3043003082 z\" /><path fill-rule=\"evenodd\" fill=\"#ff3333\" stroke=\"#555555\" stroke-width=\"0.00212976837158\" opacity=\"0.6\" d=\"M -87.2220001221,30.2873001099 L -87.2397994995,30.2833003998 L -87.2333984375,30.2663993835 L -87.2220001221,30.2873001099 z\" /><path fill-rule=\"evenodd\" fill=\"#ff3333\" stroke=\"#555555\" stroke-width=\"0.00212976837158\" opacity=\"0.6\" d=\"M -87.2220001221,30.2873001099 L -87.2333984375,30.2663993835 L -87.216003418,30.2709007263 L -87.2220001221,30.2873001099 z\" /><path fill-rule=\"evenodd\" fill=\"#ff3333\" stroke=\"#555555\" stroke-width=\"0.00212976837158\" opacity=\"0.6\" d=\"M -87.216003418,30.2709007263 L -87.2333984375,30.2663993835 L -87.2232971191,30.2497997284 L -87.216003418,30.2709007263 z\" /><path fill-rule=\"evenodd\" fill=\"#ff3333\" stroke=\"#555555\" stroke-width=\"0.00212976837158\" opacity=\"0.6\" d=\"M -87.216003418,30.2709007263 L -87.2232971191,30.2497997284 L -87.2068023682,30.2569007874 L -87.216003418,30.2709007263 z\" /><path fill-rule=\"evenodd\" fill=\"#ff3333\" stroke=\"#555555\" stroke-width=\"0.00212976837158\" opacity=\"0.6\" d=\"M -87.2068023682,30.2569007874 L -87.2232971191,30.2497997284 L -87.2133026123,30.2339000702 L -87.2068023682,30.2569007874 z\" /><path fill-rule=\"evenodd\" fill=\"#ff3333\" stroke=\"#555555\" stroke-width=\"0.00212976837158\" opacity=\"0.6\" d=\"M -87.2068023682,30.2569007874 L -87.2133026123,30.2339000702 L -87.1959991455,30.2420005798 L -87.2068023682,30.2569007874 z\" /><path fill-rule=\"evenodd\" fill=\"#ff3333\" stroke=\"#555555\" stroke-width=\"0.00212976837158\" opacity=\"0.6\" d=\"M -87.1959991455,30.2420005798 L -87.2133026123,30.2339000702 L -87.2022018433,30.2192993164 L -87.1959991455,30.2420005798 z\" /></g></g></svg>"
      ],
      "text/plain": [
       "<shapely.geometry.multipolygon.MultiPolygon object at 0x7fa394b87dd0>"
      ]
     },
     "execution_count": 4,
     "metadata": {},
     "output_type": "execute_result"
    }
   ],
   "source": [
    "ugrid"
   ]
  },
  {
   "cell_type": "markdown",
   "metadata": {},
   "source": [
    "### The properties are:"
   ]
  },
  {
   "cell_type": "code",
   "execution_count": 5,
   "metadata": {
    "collapsed": false
   },
   "outputs": [
    {
     "data": {
      "text/plain": [
       "<pyugrid.ugrid.UGrid at 0x7fa391963310>"
      ]
     },
     "execution_count": 5,
     "metadata": {},
     "output_type": "execute_result"
    }
   ],
   "source": [
    "ugrid.grid  # The `py{u,s}grid` object."
   ]
  },
  {
   "cell_type": "code",
   "execution_count": 6,
   "metadata": {
    "collapsed": false
   },
   "outputs": [
    {
     "data": {
      "text/plain": [
       "u'fvcom_mesh'"
      ]
     },
     "execution_count": 6,
     "metadata": {},
     "output_type": "execute_result"
    }
   ],
   "source": [
    "ugrid.mesh_name  # Grid name"
   ]
  },
  {
   "cell_type": "code",
   "execution_count": 7,
   "metadata": {
    "collapsed": false
   },
   "outputs": [
    {
     "data": {
      "text/plain": [
       "'../gridgeo/tests/data/FVCOM-Nowcast-Agg.nc'"
      ]
     },
     "execution_count": 7,
     "metadata": {},
     "output_type": "execute_result"
    }
   ],
   "source": [
    "ugrid.nc  # Reference to the netCDF file/URL path or object."
   ]
  },
  {
   "cell_type": "code",
   "execution_count": 8,
   "metadata": {
    "collapsed": false
   },
   "outputs": [
    {
     "data": {
      "text/plain": [
       "shapely.geometry.multipolygon.MultiPolygon"
      ]
     },
     "execution_count": 8,
     "metadata": {},
     "output_type": "execute_result"
    }
   ],
   "source": [
    "type(ugrid.polygons)  # The polygons"
   ]
  },
  {
   "cell_type": "markdown",
   "metadata": {},
   "source": [
    "### The methods are:"
   ]
  },
  {
   "cell_type": "code",
   "execution_count": 9,
   "metadata": {
    "collapsed": false
   },
   "outputs": [
    {
     "data": {
      "text/plain": [
       "dict"
      ]
     },
     "execution_count": 9,
     "metadata": {},
     "output_type": "execute_result"
    }
   ],
   "source": [
    "properties = dict(fill='#fd7d11',\n",
    "                  fill_opacity=0.2,\n",
    "                  stroke_opacity=1,\n",
    "                  popupContent=ugrid.mesh_name)\n",
    "\n",
    "geojson = ugrid.grid2geojson(**properties)\n",
    "\n",
    "type(geojson)"
   ]
  },
  {
   "cell_type": "code",
   "execution_count": 10,
   "metadata": {
    "collapsed": false
   },
   "outputs": [
    {
     "data": {
      "text/plain": [
       "shapely.geometry.multipolygon.MultiPolygon"
      ]
     },
     "execution_count": 10,
     "metadata": {},
     "output_type": "execute_result"
    }
   ],
   "source": [
    "shape = ugrid.grid2shapely()\n",
    "\n",
    "type(shape)"
   ]
  },
  {
   "cell_type": "markdown",
   "metadata": {},
   "source": [
    "### There will be a CLI utility to save the files"
   ]
  },
  {
   "cell_type": "code",
   "execution_count": 11,
   "metadata": {
    "collapsed": false
   },
   "outputs": [],
   "source": [
    "import json\n",
    "\n",
    "kw = dict( sort_keys=True, indent=4, separators=(',', ': '))\n",
    "with open('ugrid.geojson','w') as f:\n",
    "    json.dump(geojson, f, **kw)"
   ]
  },
  {
   "cell_type": "markdown",
   "metadata": {},
   "source": [
    "### At the moment folium ignores all GeoJSON properties but the popupContent..."
   ]
  },
  {
   "cell_type": "code",
   "execution_count": 12,
   "metadata": {
    "collapsed": false
   },
   "outputs": [
    {
     "data": {
      "text/html": [
       "<iframe srcdoc=\"<!DOCTYPE html>\n",
       "<head>\n",
       "   <meta http-equiv=&quot;content-type&quot; content=&quot;text/html; charset=UTF-8&quot; />\n",
       "   <link rel=&quot;stylesheet&quot; href=&quot;https://cdnjs.cloudflare.com/ajax/libs/leaflet/0.7.3/leaflet.css&quot; />\n",
       "   <script src=&quot;https://cdnjs.cloudflare.com/ajax/libs/leaflet/0.7.3/leaflet.js&quot;></script>\n",
       "   <script src=&quot;https://cdnjs.cloudflare.com/ajax/libs/d3/3.5.5/d3.min.js&quot; charset=&quot;utf-8&quot;></script>\n",
       "   <script src=&quot;https://cdnjs.cloudflare.com/ajax/libs/queue-async/1.0.7/queue.min.js&quot;></script>\n",
       "\n",
       "   \n",
       "   \n",
       "   \n",
       "   \n",
       "\n",
       "   <style>\n",
       "\n",
       "      html, body {\n",
       "        width: 100%;\n",
       "        height: 100%;\n",
       "        margin: 0;\n",
       "        padding: 0;\n",
       "      }\n",
       "\n",
       "      .legend {\n",
       "          padding: 0px 0px;\n",
       "          font: 10px sans-serif;\n",
       "          background: white;\n",
       "          background: rgba(255,255,255,0.8);\n",
       "          box-shadow: 0 0 15px rgba(0,0,0,0.2);\n",
       "          border-radius: 5px;\n",
       "      }\n",
       "\n",
       "      .key path {\n",
       "        display: none;\n",
       "      }\n",
       "\n",
       "   </style>\n",
       "</head>\n",
       "\n",
       "<body>\n",
       "\n",
       "   <div id=&quot;map&quot; style=&quot;width: 100%; height: 100%&quot;></div>\n",
       "\n",
       "   <script>\n",
       "\n",
       "      queue()\n",
       "          .defer(function(callback){callback(null, JSON.parse('{&quot;geometry&quot;: {&quot;type&quot;: &quot;MultiPolygon&quot;, &quot;coordinates&quot;: [[[[-87.24949645996094, 30.317899703979492], [-87.24459838867188, 30.300199508666992], [-87.22769927978516, 30.30430030822754], [-87.24949645996094, 30.317899703979492]]], [[[-87.24459838867188, 30.300199508666992], [-87.23979949951172, 30.283300399780273], [-87.22769927978516, 30.30430030822754], [-87.24459838867188, 30.300199508666992]]], [[[-87.22769927978516, 30.30430030822754], [-87.23979949951172, 30.283300399780273], [-87.22200012207031, 30.28730010986328], [-87.22769927978516, 30.30430030822754]]], [[[-87.22200012207031, 30.28730010986328], [-87.23979949951172, 30.283300399780273], [-87.2333984375, 30.266399383544922], [-87.22200012207031, 30.28730010986328]]], [[[-87.22200012207031, 30.28730010986328], [-87.2333984375, 30.266399383544922], [-87.21600341796875, 30.27090072631836], [-87.22200012207031, 30.28730010986328]]], [[[-87.21600341796875, 30.27090072631836], [-87.2333984375, 30.266399383544922], [-87.22329711914062, 30.249799728393555], [-87.21600341796875, 30.27090072631836]]], [[[-87.21600341796875, 30.27090072631836], [-87.22329711914062, 30.249799728393555], [-87.20680236816406, 30.256900787353516], [-87.21600341796875, 30.27090072631836]]], [[[-87.20680236816406, 30.256900787353516], [-87.22329711914062, 30.249799728393555], [-87.21330261230469, 30.23390007019043], [-87.20680236816406, 30.256900787353516]]], [[[-87.20680236816406, 30.256900787353516], [-87.21330261230469, 30.23390007019043], [-87.19599914550781, 30.242000579833984], [-87.20680236816406, 30.256900787353516]]], [[[-87.19599914550781, 30.242000579833984], [-87.21330261230469, 30.23390007019043], [-87.20220184326172, 30.21929931640625], [-87.19599914550781, 30.242000579833984]]]]}, &quot;type&quot;: &quot;Feature&quot;, &quot;properties&quot;: {&quot;stroke&quot;: &quot;#000000&quot;, &quot;name&quot;: &quot;fvcom_mesh&quot;, &quot;stroke-opacity&quot;: 1, &quot;fill-opacity&quot;: 0.2, &quot;color&quot;: &quot;#ffffff&quot;, &quot;popupContent&quot;: &quot;fvcom_mesh&quot;, &quot;stroke-width&quot;: 1, &quot;fill&quot;: &quot;#fd7d11&quot;}}'))})\n",
       "          .await(makeMap)\n",
       "\n",
       "      function onEachFeature(feature, layer) {\n",
       "          // does this feature have a property named popupContent?\n",
       "          if (feature.properties && feature.properties.popupContent) {\n",
       "              layer.bindPopup(feature.properties.popupContent);\n",
       "              }\n",
       "          };\n",
       "\n",
       "      function makeMap(error, gjson_1) {\n",
       "\n",
       "          \n",
       "\n",
       "          \n",
       "\n",
       "          function matchKey(datapoint, key_variable){\n",
       "              if (typeof key_variable[0][datapoint] === 'undefined') {\n",
       "                  return null;\n",
       "              }\n",
       "              else {\n",
       "                  return parseFloat(key_variable[0][datapoint]);\n",
       "              };\n",
       "          };\n",
       "\n",
       "          \n",
       "\n",
       "          var map = L.map('map').setView([30.2687401556, -87.2223765055], 11);\n",
       "\n",
       "          L.tileLayer('https://{s}.tile.openstreetmap.org/{z}/{x}/{y}.png', {\n",
       "              maxZoom: 18,\n",
       "              minZoom: 1,\n",
       "              attribution: 'Map data (c) <a href=&quot;http://openstreetmap.org&quot;>OpenStreetMap</a> contributors'\n",
       "          }).addTo(map);\n",
       "\n",
       "          \n",
       "          function style_1(feature) {\n",
       "    return {\n",
       "        fillColor: '#ffffff',\n",
       "        weight: 1,\n",
       "        opacity: 1,\n",
       "        color: '#848482',\n",
       "        fillOpacity: 0\n",
       "    };\n",
       "}\n",
       "          \n",
       "\n",
       "          \n",
       "          gJson_layer_1 = L.geoJson(gjson_1, {style: style_1,onEachFeature: onEachFeature}).addTo(map)\n",
       "          \n",
       "\n",
       "          \n",
       "\n",
       "          \n",
       "\n",
       "          \n",
       "\n",
       "          \n",
       "\n",
       "          \n",
       "\n",
       "          \n",
       "\n",
       "          \n",
       "\n",
       "      };\n",
       "\n",
       "   </script>\n",
       "</body>\" style=\"width: 100%; height: 500px; border: none\"></iframe>"
      ],
      "text/plain": [
       "<folium.folium.Map at 0x7fa356b71f50>"
      ]
     },
     "execution_count": 12,
     "metadata": {},
     "output_type": "execute_result"
    }
   ],
   "source": [
    "import folium\n",
    "\n",
    "# Using shape`ly trick to center the map.\n",
    "lon, lat = shape.centroid.x, shape.centroid.y\n",
    "zoom_start = 11\n",
    "\n",
    "mapa = folium.Map(location=[lat, lon], tiles=\"OpenStreetMap\",\n",
    "                  zoom_start=zoom_start)\n",
    "\n",
    "kw = dict(fill_color='#ffffff', line_color='#848482', fill_opacity=0)\n",
    "mapa.geo_json(geo_str=json.dumps(geojson), **kw)\n",
    "\n",
    "mapa"
   ]
  },
  {
   "cell_type": "markdown",
   "metadata": {},
   "source": [
    "### ... but other software do read them!"
   ]
  },
  {
   "cell_type": "markdown",
   "metadata": {},
   "source": [
    "![](./terria.png)\n",
    "![](./geojsonio.png)"
   ]
  }
 ],
 "metadata": {
  "kernelspec": {
   "display_name": "Python 2",
   "language": "python",
   "name": "python2"
  },
  "language_info": {
   "codemirror_mode": {
    "name": "ipython",
    "version": 2
   },
   "file_extension": ".py",
   "mimetype": "text/x-python",
   "name": "python",
   "nbconvert_exporter": "python",
   "pygments_lexer": "ipython2",
   "version": "2.7.10"
  }
 },
 "nbformat": 4,
 "nbformat_minor": 0
}
